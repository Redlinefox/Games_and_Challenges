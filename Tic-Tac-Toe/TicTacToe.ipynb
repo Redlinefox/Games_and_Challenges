{
 "cells": [
  {
   "cell_type": "markdown",
   "metadata": {},
   "source": [
    "# Tic-Tac-Toe\n",
    "##### Made with Python"
   ]
  },
  {
   "cell_type": "code",
   "execution_count": 1,
   "metadata": {},
   "outputs": [],
   "source": [
    "def intro():\n",
    "    print('This is a game of Tic-Tac-Toe')\n",
    "    print('Player 1 has the X tokens and goes first')\n",
    "    print('Player 2 has the O tokens and goes second')\n",
    "    print('If either player wishes to end game they can type \\'End\\'\\n')\n",
    "    print('Each player can select a number that corresponds with the square below')\n",
    "    print([1, 2, 3])\n",
    "    print([4, 5, 6])\n",
    "    print([7, 8, 9])\n",
    "    print()"
   ]
  },
  {
   "cell_type": "code",
   "execution_count": 2,
   "metadata": {},
   "outputs": [],
   "source": [
    "def currentPlayer(turn):\n",
    "    if turn%2 == 1:\n",
    "        return 'Player1'\n",
    "    else:\n",
    "        return 'Player2'"
   ]
  },
  {
   "cell_type": "code",
   "execution_count": 3,
   "metadata": {},
   "outputs": [],
   "source": [
    "def playerChoice(player, board, piece):\n",
    "    choice = 'wrong'\n",
    "    \n",
    "    while choice not in ['1', '2', '3', '4', '5', '6', '7', '8', '9', 'End', 'end', 'END']:\n",
    "        time.sleep(0.1)\n",
    "        choice = input(f'{player} turn: choose a square to insert your {piece}: ')\n",
    "        \n",
    "        if choice in ['End', 'end', 'END']:\n",
    "            return choice\n",
    "        elif choice not in ['1','2','3','4','5','6','7','8','9', 'End', 'end', 'END']:\n",
    "            clear_output()\n",
    "            displayBoard(board)\n",
    "            print('Sorry.  That choice is not in the selection.  Please choose a square between 1-9 or End')\n",
    "            continue\n",
    "\n",
    "        if board[int(choice)][1] == True:\n",
    "            clear_output()\n",
    "            displayBoard(board)\n",
    "            choice = 'wrong'\n",
    "            print('Sorry that square is filled; choose a different square')\n",
    "    return choice"
   ]
  },
  {
   "cell_type": "code",
   "execution_count": 4,
   "metadata": {},
   "outputs": [],
   "source": [
    "def displayBoard(board):\n",
    "    row1 = [board[1][0], board[2][0], board[3][0]]\n",
    "    row2 = [board[4][0], board[5][0], board[6][0]]\n",
    "    row3 = [board[7][0], board[8][0], board[9][0]]\n",
    "    print(f' {board[1][0]} | {board[2][0]} | {board[3][0]}')\n",
    "    print('---+---+---')\n",
    "    print(f' {board[4][0]} | {board[5][0]} | {board[6][0]}')\n",
    "    print('---+---+---')\n",
    "    print(f' {board[7][0]} | {board[8][0]} | {board[9][0]}')\n",
    "    return(' ')"
   ]
  },
  {
   "cell_type": "code",
   "execution_count": 5,
   "metadata": {},
   "outputs": [],
   "source": [
    "def updateBoard(playerDecision, board, token):\n",
    "    clear_output()\n",
    "    playerDecision = int(playerDecision)\n",
    "    \n",
    "    board[playerDecision][0] = token\n",
    "    board[playerDecision][1] = True"
   ]
  },
  {
   "cell_type": "code",
   "execution_count": 6,
   "metadata": {},
   "outputs": [],
   "source": [
    "def checkState(board, token):\n",
    "    \n",
    "    #check for WIN\n",
    "    if board[1][0] == board[2][0] == board[3][0] == token:\n",
    "        return 'Wins'\n",
    "    elif board[4][0] == board[5][0] == board[6][0] == token:\n",
    "        return 'Wins'\n",
    "    elif board[7][0] == board[8][0] == board[9][0] == token:\n",
    "        return 'Wins'\n",
    "    elif board[1][0] == board[4][0] == board[7][0] == token:\n",
    "        return 'Wins'\n",
    "    elif board[2][0] == board[5][0] == board[8][0] == token:\n",
    "        return 'Wins'\n",
    "    elif board[3][0] == board[6][0] == board[9][0] == token:\n",
    "        return 'Wins'\n",
    "    elif board[1][0] == board[5][0] == board[9][0] == token:\n",
    "        return 'Wins'\n",
    "    elif board[3][0] == board[5][0] == board[7][0] == token:\n",
    "        return 'Wins'\n",
    "    else:\n",
    "        #check for DRAW\n",
    "        for i in board:\n",
    "            if board[i][1] == False:\n",
    "                return 'Continue'\n",
    "            else:\n",
    "                continue\n",
    "    #if DRAW\n",
    "    return 'Draw'"
   ]
  },
  {
   "cell_type": "code",
   "execution_count": 7,
   "metadata": {},
   "outputs": [],
   "source": [
    "def process(checkState, pName):\n",
    "    if checkState == 'Draw':\n",
    "        print('The game is a Draw')\n",
    "        return False\n",
    "    elif checkState == 'Wins':\n",
    "        print(f'{pName} wins')\n",
    "        return False\n",
    "    else:\n",
    "        return True"
   ]
  },
  {
   "cell_type": "code",
   "execution_count": 8,
   "metadata": {},
   "outputs": [],
   "source": [
    "def replay():\n",
    "    replayChoice = 'wrong'\n",
    "    \n",
    "    while replayChoice not in ['1', '2']:\n",
    "        time.sleep(0.1)\n",
    "        replayChoice = input('Do you want to play a new game: 1 (for Yes) or 2 (for No)')\n",
    "        \n",
    "        if replayChoice not in ['1', '2']:\n",
    "            clear_output()\n",
    "            print('Answer not recognized.  Please choose 1 (for Yes) or 2 (for No)')\n",
    "            \n",
    "    if replayChoice == '1':\n",
    "        return True\n",
    "    else:\n",
    "        return False"
   ]
  },
  {
   "cell_type": "code",
   "execution_count": 9,
   "metadata": {},
   "outputs": [],
   "source": [
    "def TicTacToe():\n",
    "    intro()\n",
    "    players = {\n",
    "        'Player1' : 'X',\n",
    "        'Player2' : 'O'\n",
    "    }\n",
    "\n",
    "    gameOn = True\n",
    "    replayOn = True\n",
    "    \n",
    "    #Game Engine\n",
    "    while replayOn:\n",
    "\n",
    "        board = {\n",
    "            1 : [' ', False], 2 : [' ', False], 3 : [' ', False],\n",
    "            4 : [' ', False], 5 : [' ', False], 6 : [' ', False],\n",
    "            7 : [' ', False], 8 : [' ', False], 9 : [' ', False]\n",
    "        }\n",
    "        turn = 1\n",
    "\n",
    "        while gameOn:\n",
    "            displayBoard(board)\n",
    "            player = currentPlayer(turn)\n",
    "            piece = players[player]\n",
    "\n",
    "            playerDecision = playerChoice(player, board, piece)\n",
    "\n",
    "            if playerDecision.lower() == 'end':\n",
    "                gameOn = False\n",
    "                break\n",
    "            else:\n",
    "                updateBoard(playerDecision, board, piece)\n",
    "\n",
    "            gameOn = process(checkState(board, piece), player)\n",
    "            turn += 1\n",
    "\n",
    "        print('Game Over')\n",
    "        replayOn = gameOn = replay()\n",
    "\n",
    "        if replayOn == False:\n",
    "            print('Game Shutdown')\n",
    "        else:\n",
    "            clear_output()"
   ]
  },
  {
   "cell_type": "code",
   "execution_count": 10,
   "metadata": {},
   "outputs": [
    {
     "name": "stdout",
     "output_type": "stream",
     "text": [
      "Player1 wins\n",
      "Game Over\n",
      "Do you want to play a new game: 1 (for Yes) or 2 (for No)2\n",
      "Game Shutdown\n"
     ]
    }
   ],
   "source": [
    "from IPython.display import clear_output\n",
    "import time\n",
    "\n",
    "TicTacToe()"
   ]
  }
 ],
 "metadata": {
  "kernelspec": {
   "display_name": "Python 3",
   "language": "python",
   "name": "python3"
  },
  "language_info": {
   "codemirror_mode": {
    "name": "ipython",
    "version": 3
   },
   "file_extension": ".py",
   "mimetype": "text/x-python",
   "name": "python",
   "nbconvert_exporter": "python",
   "pygments_lexer": "ipython3",
   "version": "3.8.5"
  }
 },
 "nbformat": 4,
 "nbformat_minor": 1
}
